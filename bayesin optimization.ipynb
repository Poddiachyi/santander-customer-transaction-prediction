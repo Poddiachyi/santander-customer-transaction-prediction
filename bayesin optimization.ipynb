{
 "cells": [
  {
   "cell_type": "code",
   "execution_count": null,
   "metadata": {},
   "outputs": [],
   "source": [
    "import matplotlib.pyplot as plt\n",
    "\n",
    "import lightgbm as lgb\n",
    "import pandas as pd\n",
    "import numpy as np\n",
    "\n",
    "from datetime import datetime\n",
    "from pathlib import Path\n",
    "\n",
    "from sklearn.model_selection import StratifiedKFold, GridSearchCV\n",
    "from sklearn.metrics import roc_auc_score\n",
    "from sklearn.semi_supervised import LabelPropagation, LabelSpreading\n",
    "from sklearn.model_selection import train_test_split\n",
    "from sklearn.decomposition import PCA\n",
    "from sklearn import preprocessing\n",
    "from sklearn.preprocessing import LabelEncoder\n",
    "\n",
    "from bayes_opt import BayesianOptimization\n",
    "\n",
    "import warnings\n",
    "\n",
    "%matplotlib inline"
   ]
  },
  {
   "cell_type": "code",
   "execution_count": 8,
   "metadata": {
    "collapsed": true
   },
   "outputs": [],
   "source": [
    "train__df = pd.read_csv('data/train.csv').drop(\"ID_code\",axis=1)\n",
    "test = pd.read_csv('data/test.csv').drop(\"ID_code\",axis=1)"
   ]
  },
  {
   "cell_type": "code",
   "execution_count": 3,
   "metadata": {},
   "outputs": [
    {
     "data": {
      "text/plain": [
       "['var_12', 'var_68', 'var_91', 'var_103', 'var_108']"
      ]
     },
     "execution_count": 3,
     "metadata": {},
     "output_type": "execute_result"
    }
   ],
   "source": [
    "f = [x for x  in train.columns if x != 'target']\n",
    "columns_cnt = []\n",
    "cat_features = []\n",
    "for column in f:\n",
    "    columns_cnt.append(len(train[column].unique()))\n",
    "    if (len(train[column].unique()) / len(train) < .05):\n",
    "        cat_features.append(column)\n",
    "cat_features"
   ]
  },
  {
   "cell_type": "code",
   "execution_count": 4,
   "metadata": {
    "collapsed": true
   },
   "outputs": [],
   "source": [
    "X = train.iloc[:, 1:]\n",
    "y = train.iloc[:, 0]"
   ]
  },
  {
   "cell_type": "code",
   "execution_count": 5,
   "metadata": {
    "collapsed": true
   },
   "outputs": [],
   "source": [
    "X_train, X_val, y_train, y_val = train_test_split(X, y, test_size=0.20)\n",
    "X_val, X_test, y_val, y_test = train_test_split(X_val, y_val, test_size=0.50)"
   ]
  },
  {
   "cell_type": "code",
   "execution_count": 6,
   "metadata": {
    "collapsed": true
   },
   "outputs": [],
   "source": [
    "param = {\n",
    "   \"objective\" : \"binary\",\n",
    "    \"metric\" : \"auc\",\n",
    "    \"boosting\": 'gbdt',\n",
    "    \"max_depth\" : -1,\n",
    "    \"num_leaves\" : 13,\n",
    "    \"learning_rate\" : 0.01,\n",
    "    \"bagging_freq\": 5,\n",
    "    \"bagging_fraction\" : 0.4,\n",
    "    \"feature_fraction\" : 0.05,\n",
    "    \"min_data_in_leaf\": 80,\n",
    "    \"min_sum_heassian_in_leaf\": 10,\n",
    "    \"tree_learner\": \"serial\",\n",
    "    \"boost_from_average\": \"false\",\n",
    "    \"bagging_seed\" : 10,\n",
    "    \"verbosity\" : 1,\n",
    "}"
   ]
  },
  {
   "cell_type": "code",
   "execution_count": 7,
   "metadata": {
    "collapsed": true
   },
   "outputs": [],
   "source": [
    "bounds_LGB = {\n",
    "    'num_leaves': (5, 20), \n",
    "    'min_data_in_leaf': (5, 20),  \n",
    "    'learning_rate': (0.01, 0.3),\n",
    "    'min_sum_hessian_in_leaf': (0.00001, 0.01),    \n",
    "    'feature_fraction': (0.05, 0.5),\n",
    "    'lambda_l1': (0, 5.0), \n",
    "    'lambda_l2': (0, 5.0), \n",
    "    'min_gain_to_split': (0, 1.0),\n",
    "    'max_depth':(3,15),\n",
    "}"
   ]
  },
  {
   "cell_type": "code",
   "execution_count": 29,
   "metadata": {
    "collapsed": true
   },
   "outputs": [],
   "source": [
    "def LGB_bayesian(\n",
    "    num_leaves:int,\n",
    "    min_data_in_leaf:int,  \n",
    "    learning_rate:int,\n",
    "    min_sum_hessian_in_leaf:int,    \n",
    "    feature_fraction:int,\n",
    "    lambda_l1:int,\n",
    "    lambda_l2:int,\n",
    "    min_gain_to_split:int,\n",
    "    max_depth:int):\n",
    "    \n",
    "    # LightGBM expects next three parameters need to be integer. So we make them integer\n",
    "    num_leaves = int(num_leaves)\n",
    "    min_data_in_leaf = int(min_data_in_leaf)\n",
    "    max_depth = int(max_depth)\n",
    "\n",
    "    assert type(num_leaves) == int\n",
    "    assert type(min_data_in_leaf) == int\n",
    "    assert type(max_depth) == int\n",
    "\n",
    "    param = {\n",
    "        'num_leaves': num_leaves,\n",
    "        'max_bin': 63,\n",
    "        'min_data_in_leaf': min_data_in_leaf,\n",
    "        'learning_rate': learning_rate,\n",
    "        'min_sum_hessian_in_leaf': min_sum_hessian_in_leaf,\n",
    "        'bagging_fraction': 1.0,\n",
    "        'bagging_freq': 5,\n",
    "        'feature_fraction': feature_fraction,\n",
    "        'lambda_l1': lambda_l1,\n",
    "        'lambda_l2': lambda_l2,\n",
    "        'min_gain_to_split': min_gain_to_split,\n",
    "        'max_depth': -1,\n",
    "        'save_binary': True, \n",
    "        'seed': 1337,\n",
    "        'feature_fraction_seed': 1337,\n",
    "        'bagging_seed': 1337,\n",
    "        'drop_seed': 1337,\n",
    "         \"metric\" : \"auc\",\n",
    "        'data_random_seed': 1337,\n",
    "        'objective': 'binary',\n",
    "        'boosting_type': 'gbdt',\n",
    "        'verbose': 1,\n",
    "        'metric': 'auc',\n",
    "        'is_unbalance': True,\n",
    "        'boost_from_average': False,   \n",
    "        'categorical_feature': [68],\n",
    "        \"tree_learner\": \"serial\",\n",
    "        \"boost_from_average\": \"false\",\n",
    "        \"bagging_seed\" : 10,\n",
    "        \"verbosity\" : 1,\n",
    "\n",
    "    }    \n",
    "    \n",
    "    \n",
    "    xg_train = lgb.Dataset(X_train.values,\n",
    "                           label=y_train.values,\n",
    "                           free_raw_data = False\n",
    "                           )\n",
    "    xg_valid = lgb.Dataset(X_test.values,\n",
    "                           label=y_test.values,\n",
    "                           free_raw_data = False\n",
    "                           )   \n",
    "\n",
    "    num_round = 5000\n",
    "    clf = lgb.train(param, xg_train, num_round, valid_sets = [xg_valid], verbose_eval=250, \n",
    "                    early_stopping_rounds = 100)\n",
    "    \n",
    "    predictions = clf.predict(X_test, num_iteration=clf.best_iteration)   \n",
    "    \n",
    "    score = roc_auc_score(y_test, predictions)\n",
    "    \n",
    "    return score"
   ]
  },
  {
   "cell_type": "code",
   "execution_count": 30,
   "metadata": {
    "collapsed": true
   },
   "outputs": [],
   "source": [
    "LGB_BO = BayesianOptimization(LGB_bayesian, bounds_LGB, random_state=13)"
   ]
  },
  {
   "cell_type": "code",
   "execution_count": 31,
   "metadata": {
    "collapsed": true
   },
   "outputs": [],
   "source": [
    "init_points = 5\n",
    "n_iter = 5"
   ]
  },
  {
   "cell_type": "code",
   "execution_count": 32,
   "metadata": {
    "scrolled": true
   },
   "outputs": [
    {
     "name": "stdout",
     "output_type": "stream",
     "text": [
      "|   iter    |  target   | featur... | lambda_l1 | lambda_l2 | learni... | max_depth | min_da... | min_ga... | min_su... | num_le... |\n",
      "-------------------------------------------------------------------------------------------------------------------------------------\n",
      "Training until validation scores don't improve for 100 rounds.\n",
      "[250]\tvalid_0's auc: 0.886966\n",
      "Early stopping, best iteration is:\n",
      "[201]\tvalid_0's auc: 0.887332\n",
      "| \u001b[0m 1       \u001b[0m | \u001b[0m 0.8873  \u001b[0m | \u001b[0m 0.4     \u001b[0m | \u001b[0m 1.188   \u001b[0m | \u001b[0m 4.121   \u001b[0m | \u001b[0m 0.2901  \u001b[0m | \u001b[0m 14.67   \u001b[0m | \u001b[0m 11.8    \u001b[0m | \u001b[0m 0.609   \u001b[0m | \u001b[0m 0.007758\u001b[0m | \u001b[0m 14.62   \u001b[0m |\n",
      "Training until validation scores don't improve for 100 rounds.\n",
      "[250]\tvalid_0's auc: 0.840194\n",
      "[500]\tvalid_0's auc: 0.867028\n",
      "[750]\tvalid_0's auc: 0.879277\n",
      "[1000]\tvalid_0's auc: 0.885724\n",
      "[1250]\tvalid_0's auc: 0.88994\n",
      "[1500]\tvalid_0's auc: 0.892467\n",
      "[1750]\tvalid_0's auc: 0.894272\n",
      "[2000]\tvalid_0's auc: 0.895262\n",
      "[2250]\tvalid_0's auc: 0.896124\n",
      "[2500]\tvalid_0's auc: 0.896604\n",
      "[2750]\tvalid_0's auc: 0.896678\n",
      "Early stopping, best iteration is:\n",
      "[2780]\tvalid_0's auc: 0.896761\n",
      "| \u001b[95m 2       \u001b[0m | \u001b[95m 0.8968  \u001b[0m | \u001b[95m 0.3749  \u001b[0m | \u001b[95m 0.1752  \u001b[0m | \u001b[95m 1.492   \u001b[0m | \u001b[95m 0.02697 \u001b[0m | \u001b[95m 13.28   \u001b[0m | \u001b[95m 10.59   \u001b[0m | \u001b[95m 0.6798  \u001b[0m | \u001b[95m 0.00257 \u001b[0m | \u001b[95m 10.21   \u001b[0m |\n",
      "Training until validation scores don't improve for 100 rounds.\n",
      "[250]\tvalid_0's auc: 0.884212\n",
      "[500]\tvalid_0's auc: 0.893761\n",
      "[750]\tvalid_0's auc: 0.896553\n",
      "[1000]\tvalid_0's auc: 0.897981\n",
      "Early stopping, best iteration is:\n",
      "[1007]\tvalid_0's auc: 0.898076\n",
      "| \u001b[95m 3       \u001b[0m | \u001b[95m 0.8981  \u001b[0m | \u001b[95m 0.05424 \u001b[0m | \u001b[95m 1.792   \u001b[0m | \u001b[95m 4.745   \u001b[0m | \u001b[95m 0.07319 \u001b[0m | \u001b[95m 6.833   \u001b[0m | \u001b[95m 18.77   \u001b[0m | \u001b[95m 0.0319  \u001b[0m | \u001b[95m 0.000660\u001b[0m | \u001b[95m 14.45   \u001b[0m |\n",
      "Training until validation scores don't improve for 100 rounds.\n",
      "[250]\tvalid_0's auc: 0.882718\n",
      "Early stopping, best iteration is:\n",
      "[212]\tvalid_0's auc: 0.883767\n",
      "| \u001b[0m 4       \u001b[0m | \u001b[0m 0.8838  \u001b[0m | \u001b[0m 0.4432  \u001b[0m | \u001b[0m 0.04358 \u001b[0m | \u001b[0m 3.733   \u001b[0m | \u001b[0m 0.2457  \u001b[0m | \u001b[0m 3.909   \u001b[0m | \u001b[0m 14.85   \u001b[0m | \u001b[0m 0.5093  \u001b[0m | \u001b[0m 0.004804\u001b[0m | \u001b[0m 19.33   \u001b[0m |\n",
      "Training until validation scores don't improve for 100 rounds.\n",
      "[250]\tvalid_0's auc: 0.885054\n",
      "[500]\tvalid_0's auc: 0.893392\n",
      "[750]\tvalid_0's auc: 0.895154\n",
      "Early stopping, best iteration is:\n",
      "[651]\tvalid_0's auc: 0.895224\n",
      "| \u001b[0m 5       \u001b[0m | \u001b[0m 0.8952  \u001b[0m | \u001b[0m 0.05001 \u001b[0m | \u001b[0m 1.235   \u001b[0m | \u001b[0m 3.561   \u001b[0m | \u001b[0m 0.1041  \u001b[0m | \u001b[0m 6.324   \u001b[0m | \u001b[0m 15.43   \u001b[0m | \u001b[0m 0.9186  \u001b[0m | \u001b[0m 0.002452\u001b[0m | \u001b[0m 11.87   \u001b[0m |\n",
      "Training until validation scores don't improve for 100 rounds.\n",
      "[250]\tvalid_0's auc: 0.869865\n",
      "[500]\tvalid_0's auc: 0.887271\n",
      "[750]\tvalid_0's auc: 0.893624\n",
      "[1000]\tvalid_0's auc: 0.896428\n",
      "[1250]\tvalid_0's auc: 0.896976\n",
      "Early stopping, best iteration is:\n",
      "[1365]\tvalid_0's auc: 0.897513\n",
      "| \u001b[0m 6       \u001b[0m | \u001b[0m 0.8975  \u001b[0m | \u001b[0m 0.2246  \u001b[0m | \u001b[0m 4.827   \u001b[0m | \u001b[0m 0.1168  \u001b[0m | \u001b[0m 0.07548 \u001b[0m | \u001b[0m 14.16   \u001b[0m | \u001b[0m 19.89   \u001b[0m | \u001b[0m 0.1964  \u001b[0m | \u001b[0m 0.000816\u001b[0m | \u001b[0m 7.37    \u001b[0m |\n",
      "Training until validation scores don't improve for 100 rounds.\n",
      "[250]\tvalid_0's auc: 0.840685\n",
      "[500]\tvalid_0's auc: 0.849558\n",
      "[750]\tvalid_0's auc: 0.855186\n",
      "[1000]\tvalid_0's auc: 0.858372\n",
      "[1250]\tvalid_0's auc: 0.860783\n",
      "[1500]\tvalid_0's auc: 0.863452\n",
      "[1750]\tvalid_0's auc: 0.86612\n",
      "[2000]\tvalid_0's auc: 0.868491\n",
      "[2250]\tvalid_0's auc: 0.870811\n",
      "[2500]\tvalid_0's auc: 0.873132\n",
      "[2750]\tvalid_0's auc: 0.87533\n",
      "[3000]\tvalid_0's auc: 0.877423\n",
      "[3250]\tvalid_0's auc: 0.879289\n",
      "[3500]\tvalid_0's auc: 0.880983\n",
      "[3750]\tvalid_0's auc: 0.882414\n",
      "[4000]\tvalid_0's auc: 0.883848\n",
      "[4250]\tvalid_0's auc: 0.885023\n",
      "[4500]\tvalid_0's auc: 0.886194\n",
      "[4750]\tvalid_0's auc: 0.887299\n",
      "[5000]\tvalid_0's auc: 0.888201\n",
      "Did not meet early stopping. Best iteration is:\n",
      "[5000]\tvalid_0's auc: 0.888201\n",
      "| \u001b[0m 7       \u001b[0m | \u001b[0m 0.8882  \u001b[0m | \u001b[0m 0.05    \u001b[0m | \u001b[0m 1.364e-0\u001b[0m | \u001b[0m 5.0     \u001b[0m | \u001b[0m 0.01    \u001b[0m | \u001b[0m 15.0    \u001b[0m | \u001b[0m 20.0    \u001b[0m | \u001b[0m 0.0     \u001b[0m | \u001b[0m 1.002e-0\u001b[0m | \u001b[0m 5.0     \u001b[0m |\n",
      "Training until validation scores don't improve for 100 rounds.\n",
      "[250]\tvalid_0's auc: 0.776842\n",
      "[500]\tvalid_0's auc: 0.815225\n",
      "[750]\tvalid_0's auc: 0.834235\n",
      "[1000]\tvalid_0's auc: 0.847019\n",
      "[1250]\tvalid_0's auc: 0.856177\n",
      "[1500]\tvalid_0's auc: 0.863264\n",
      "[1750]\tvalid_0's auc: 0.868859\n",
      "[2000]\tvalid_0's auc: 0.873169\n",
      "[2250]\tvalid_0's auc: 0.87652\n",
      "[2500]\tvalid_0's auc: 0.879326\n",
      "[2750]\tvalid_0's auc: 0.881793\n",
      "[3000]\tvalid_0's auc: 0.883857\n",
      "[3250]\tvalid_0's auc: 0.885508\n",
      "[3500]\tvalid_0's auc: 0.886942\n",
      "[3750]\tvalid_0's auc: 0.888176\n",
      "[4000]\tvalid_0's auc: 0.889387\n",
      "[4250]\tvalid_0's auc: 0.890371\n",
      "[4500]\tvalid_0's auc: 0.891355\n",
      "[4750]\tvalid_0's auc: 0.892156\n",
      "[5000]\tvalid_0's auc: 0.892899\n",
      "Did not meet early stopping. Best iteration is:\n",
      "[5000]\tvalid_0's auc: 0.892899\n",
      "| \u001b[0m 8       \u001b[0m | \u001b[0m 0.8929  \u001b[0m | \u001b[0m 0.5     \u001b[0m | \u001b[0m 4.033   \u001b[0m | \u001b[0m 5.0     \u001b[0m | \u001b[0m 0.01    \u001b[0m | \u001b[0m 3.0     \u001b[0m | \u001b[0m 5.0     \u001b[0m | \u001b[0m 0.0     \u001b[0m | \u001b[0m 0.01    \u001b[0m | \u001b[0m 7.511   \u001b[0m |\n",
      "Training until validation scores don't improve for 100 rounds.\n",
      "[250]\tvalid_0's auc: 0.76018\n",
      "[500]\tvalid_0's auc: 0.801742\n",
      "[750]\tvalid_0's auc: 0.821642\n",
      "[1000]\tvalid_0's auc: 0.835453\n",
      "[1250]\tvalid_0's auc: 0.845497\n",
      "[1500]\tvalid_0's auc: 0.853111\n",
      "[1750]\tvalid_0's auc: 0.859374\n",
      "[2000]\tvalid_0's auc: 0.864408\n",
      "[2250]\tvalid_0's auc: 0.868644\n",
      "[2500]\tvalid_0's auc: 0.872137\n",
      "[2750]\tvalid_0's auc: 0.875033\n",
      "[3000]\tvalid_0's auc: 0.877404\n",
      "[3250]\tvalid_0's auc: 0.879452\n",
      "[3500]\tvalid_0's auc: 0.881387\n",
      "[3750]\tvalid_0's auc: 0.883079\n",
      "[4000]\tvalid_0's auc: 0.884507\n",
      "[4250]\tvalid_0's auc: 0.885842\n",
      "[4500]\tvalid_0's auc: 0.886942\n",
      "[4750]\tvalid_0's auc: 0.887997\n",
      "[5000]\tvalid_0's auc: 0.888912\n",
      "Did not meet early stopping. Best iteration is:\n",
      "[5000]\tvalid_0's auc: 0.888912\n",
      "| \u001b[0m 9       \u001b[0m | \u001b[0m 0.8889  \u001b[0m | \u001b[0m 0.5     \u001b[0m | \u001b[0m 0.766   \u001b[0m | \u001b[0m 0.0     \u001b[0m | \u001b[0m 0.01    \u001b[0m | \u001b[0m 3.0     \u001b[0m | \u001b[0m 17.77   \u001b[0m | \u001b[0m 0.0     \u001b[0m | \u001b[0m 0.01    \u001b[0m | \u001b[0m 5.0     \u001b[0m |\n",
      "Training until validation scores don't improve for 100 rounds.\n",
      "[250]\tvalid_0's auc: 0.816954\n",
      "[500]\tvalid_0's auc: 0.848219\n",
      "[750]\tvalid_0's auc: 0.863805\n",
      "[1000]\tvalid_0's auc: 0.873308\n",
      "[1250]\tvalid_0's auc: 0.879486\n",
      "[1500]\tvalid_0's auc: 0.88403\n",
      "[1750]\tvalid_0's auc: 0.887209\n",
      "[2000]\tvalid_0's auc: 0.8895\n",
      "[2250]\tvalid_0's auc: 0.891521\n",
      "[2500]\tvalid_0's auc: 0.893093\n",
      "[2750]\tvalid_0's auc: 0.894119\n",
      "[3000]\tvalid_0's auc: 0.895072\n",
      "[3250]\tvalid_0's auc: 0.895826\n",
      "[3500]\tvalid_0's auc: 0.896172\n",
      "[3750]\tvalid_0's auc: 0.896529\n",
      "[4000]\tvalid_0's auc: 0.896783\n",
      "[4250]\tvalid_0's auc: 0.896967\n",
      "[4500]\tvalid_0's auc: 0.897159\n",
      "[4750]\tvalid_0's auc: 0.897306\n",
      "[5000]\tvalid_0's auc: 0.89752\n",
      "Did not meet early stopping. Best iteration is:\n",
      "[4974]\tvalid_0's auc: 0.897538\n",
      "| \u001b[0m 10      \u001b[0m | \u001b[0m 0.8975  \u001b[0m | \u001b[0m 0.4507  \u001b[0m | \u001b[0m 4.994   \u001b[0m | \u001b[0m 2.79    \u001b[0m | \u001b[0m 0.02691 \u001b[0m | \u001b[0m 14.75   \u001b[0m | \u001b[0m 5.066   \u001b[0m | \u001b[0m 0.8385  \u001b[0m | \u001b[0m 0.009661\u001b[0m | \u001b[0m 5.594   \u001b[0m |\n",
      "=====================================================================================================================================\n"
     ]
    }
   ],
   "source": [
    "with warnings.catch_warnings():\n",
    "    warnings.filterwarnings('ignore')\n",
    "    LGB_BO.maximize(init_points=init_points, n_iter=n_iter, acq='ucb', xi=0.0, alpha=1e-6)"
   ]
  },
  {
   "cell_type": "code",
   "execution_count": 33,
   "metadata": {},
   "outputs": [
    {
     "data": {
      "text/plain": [
       "0.8980763693473784"
      ]
     },
     "execution_count": 33,
     "metadata": {},
     "output_type": "execute_result"
    }
   ],
   "source": [
    "LGB_BO.max['target']"
   ]
  },
  {
   "cell_type": "code",
   "execution_count": 35,
   "metadata": {},
   "outputs": [
    {
     "data": {
      "text/plain": [
       "{'feature_fraction': 0.05423574653643624,\n",
       " 'lambda_l1': 1.7916689135248487,\n",
       " 'lambda_l2': 4.745470908391052,\n",
       " 'learning_rate': 0.07319071264818977,\n",
       " 'max_depth': 6.8326963965643746,\n",
       " 'min_data_in_leaf': 18.76658579000881,\n",
       " 'min_gain_to_split': 0.03190366643989473,\n",
       " 'min_sum_hessian_in_leaf': 0.0006601945250547198,\n",
       " 'num_leaves': 14.447434986617345}"
      ]
     },
     "execution_count": 35,
     "metadata": {},
     "output_type": "execute_result"
    }
   ],
   "source": [
    "LGB_BO.max['params']"
   ]
  },
  {
   "cell_type": "code",
   "execution_count": null,
   "metadata": {
    "collapsed": true
   },
   "outputs": [],
   "source": []
  }
 ],
 "metadata": {
  "kernelspec": {
   "display_name": "Python 3",
   "language": "python",
   "name": "python3"
  },
  "language_info": {
   "codemirror_mode": {
    "name": "ipython",
    "version": 3
   },
   "file_extension": ".py",
   "mimetype": "text/x-python",
   "name": "python",
   "nbconvert_exporter": "python",
   "pygments_lexer": "ipython3",
   "version": "3.6.7"
  }
 },
 "nbformat": 4,
 "nbformat_minor": 2
}
