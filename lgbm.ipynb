{
 "cells": [
  {
   "cell_type": "code",
   "execution_count": 26,
   "metadata": {},
   "outputs": [],
   "source": [
    "from numba import jit\n",
    "\n",
    "import lightgbm as lgb\n",
    "import pandas as pd\n",
    "import numpy as np\n",
    "\n",
    "from datetime import datetime\n",
    "from pathlib import Path\n",
    "\n",
    "from sklearn.model_selection import StratifiedKFold\n",
    "from sklearn.metrics import roc_auc_score\n",
    "from sklearn.semi_supervised import LabelPropagation, LabelSpreading"
   ]
  },
  {
   "cell_type": "code",
   "execution_count": 27,
   "metadata": {},
   "outputs": [],
   "source": [
    "random_state = 42\n",
    "np.random.seed(random_state)\n",
    "df_train = pd.read_csv('data/train.csv').drop(\"ID_code\",axis=1)\n",
    "df_test = pd.read_csv('data/test.csv')"
   ]
  },
  {
   "cell_type": "code",
   "execution_count": 12,
   "metadata": {},
   "outputs": [],
   "source": [
    "# @jit\n",
    "def augment(train, num_n=1, num_p=2):\n",
    "    newtrain = [train]\n",
    "    \n",
    "    n = train[train.target == 0]\n",
    "    for i in range(num_n):\n",
    "        newtrain.append(n.apply(lambda x: x.values.take(np.random.permutation(len(n)))))\n",
    "    \n",
    "    for i in range(num_p):\n",
    "        p = train[train.target > 0]\n",
    "        newtrain.append(p.apply(lambda x: x.values.take(np.random.permutation(len(p)))))\n",
    "    return pd.concat(newtrain)"
   ]
  },
  {
   "cell_type": "code",
   "execution_count": 13,
   "metadata": {},
   "outputs": [],
   "source": [
    "param = {\n",
    "   \"objective\" : \"binary\",\n",
    "    \"metric\" : \"auc\",\n",
    "    \"boosting\": 'gbdt',\n",
    "    \"max_depth\" : -1,\n",
    "    \"num_leaves\" : 13,\n",
    "    \"learning_rate\" : 0.01,\n",
    "    \"bagging_freq\": 5,\n",
    "    \"bagging_fraction\" : 0.4,\n",
    "    \"feature_fraction\" : 0.05,\n",
    "    \"min_data_in_leaf\": 80,\n",
    "    \"min_sum_heassian_in_leaf\": 10,\n",
    "    \"tree_learner\": \"serial\",\n",
    "    \"boost_from_average\": \"false\",\n",
    "    \"bagging_seed\" : 10,\n",
    "    \"verbosity\" : 1,\n",
    "}"
   ]
  },
  {
   "cell_type": "code",
   "execution_count": 19,
   "metadata": {},
   "outputs": [
    {
     "name": "stdout",
     "output_type": "stream",
     "text": [
      "1\n",
      "[50]\tvalid_0's auc: 0.8293\n",
      "[100]\tvalid_0's auc: 0.849992\n",
      "[150]\tvalid_0's auc: 0.859488\n",
      "[200]\tvalid_0's auc: 0.864044\n",
      "[250]\tvalid_0's auc: 0.864273\n",
      "[300]\tvalid_0's auc: 0.865931\n",
      "[350]\tvalid_0's auc: 0.868991\n",
      "[400]\tvalid_0's auc: 0.870172\n",
      "[450]\tvalid_0's auc: 0.871215\n",
      "[500]\tvalid_0's auc: 0.872231\n",
      "[550]\tvalid_0's auc: 0.873358\n",
      "[600]\tvalid_0's auc: 0.874269\n",
      "[650]\tvalid_0's auc: 0.875194\n",
      "[700]\tvalid_0's auc: 0.87542\n",
      "[750]\tvalid_0's auc: 0.876655\n",
      "[800]\tvalid_0's auc: 0.877433\n",
      "[850]\tvalid_0's auc: 0.878334\n",
      "[900]\tvalid_0's auc: 0.879377\n",
      "[950]\tvalid_0's auc: 0.880116\n",
      "[1000]\tvalid_0's auc: 0.880744\n",
      "2\n",
      "[50]\tvalid_0's auc: 0.833619\n",
      "[100]\tvalid_0's auc: 0.852693\n",
      "[150]\tvalid_0's auc: 0.861595\n",
      "[200]\tvalid_0's auc: 0.866189\n",
      "[250]\tvalid_0's auc: 0.867299\n",
      "[300]\tvalid_0's auc: 0.868546\n",
      "[350]\tvalid_0's auc: 0.872549\n",
      "[400]\tvalid_0's auc: 0.873376\n",
      "[450]\tvalid_0's auc: 0.874677\n",
      "[500]\tvalid_0's auc: 0.875703\n",
      "[550]\tvalid_0's auc: 0.87664\n",
      "[600]\tvalid_0's auc: 0.877456\n",
      "[650]\tvalid_0's auc: 0.87843\n",
      "[700]\tvalid_0's auc: 0.87875\n",
      "[750]\tvalid_0's auc: 0.879814\n",
      "[800]\tvalid_0's auc: 0.880343\n",
      "[850]\tvalid_0's auc: 0.881135\n",
      "[900]\tvalid_0's auc: 0.881733\n",
      "[950]\tvalid_0's auc: 0.882352\n",
      "[1000]\tvalid_0's auc: 0.883079\n",
      "3\n",
      "[50]\tvalid_0's auc: 0.834903\n",
      "[100]\tvalid_0's auc: 0.859141\n",
      "[150]\tvalid_0's auc: 0.865933\n",
      "[200]\tvalid_0's auc: 0.868205\n",
      "[250]\tvalid_0's auc: 0.86986\n",
      "[300]\tvalid_0's auc: 0.871366\n",
      "[350]\tvalid_0's auc: 0.874402\n",
      "[400]\tvalid_0's auc: 0.87522\n",
      "[450]\tvalid_0's auc: 0.876036\n",
      "[500]\tvalid_0's auc: 0.877353\n",
      "[550]\tvalid_0's auc: 0.878264\n",
      "[600]\tvalid_0's auc: 0.878951\n",
      "[650]\tvalid_0's auc: 0.87988\n",
      "[700]\tvalid_0's auc: 0.880601\n",
      "[750]\tvalid_0's auc: 0.881519\n",
      "[800]\tvalid_0's auc: 0.882549\n",
      "[850]\tvalid_0's auc: 0.883306\n",
      "[900]\tvalid_0's auc: 0.884171\n",
      "[950]\tvalid_0's auc: 0.884812\n",
      "[1000]\tvalid_0's auc: 0.885359\n",
      "4\n",
      "[50]\tvalid_0's auc: 0.828527\n",
      "[100]\tvalid_0's auc: 0.849985\n",
      "[150]\tvalid_0's auc: 0.858369\n",
      "[200]\tvalid_0's auc: 0.862335\n",
      "[250]\tvalid_0's auc: 0.862282\n",
      "[300]\tvalid_0's auc: 0.863417\n",
      "[350]\tvalid_0's auc: 0.867\n",
      "[400]\tvalid_0's auc: 0.867576\n",
      "[450]\tvalid_0's auc: 0.869086\n",
      "[500]\tvalid_0's auc: 0.870446\n",
      "[550]\tvalid_0's auc: 0.871537\n",
      "[600]\tvalid_0's auc: 0.872256\n",
      "[650]\tvalid_0's auc: 0.873465\n",
      "[700]\tvalid_0's auc: 0.873598\n",
      "[750]\tvalid_0's auc: 0.874808\n",
      "[800]\tvalid_0's auc: 0.875548\n",
      "[850]\tvalid_0's auc: 0.876529\n",
      "[900]\tvalid_0's auc: 0.877478\n",
      "[950]\tvalid_0's auc: 0.878183\n",
      "[1000]\tvalid_0's auc: 0.878776\n",
      "5\n",
      "[50]\tvalid_0's auc: 0.823634\n",
      "[100]\tvalid_0's auc: 0.846376\n",
      "[150]\tvalid_0's auc: 0.856926\n",
      "[200]\tvalid_0's auc: 0.860341\n",
      "[250]\tvalid_0's auc: 0.861169\n",
      "[300]\tvalid_0's auc: 0.86199\n",
      "[350]\tvalid_0's auc: 0.865034\n",
      "[400]\tvalid_0's auc: 0.866271\n",
      "[450]\tvalid_0's auc: 0.866804\n",
      "[500]\tvalid_0's auc: 0.868066\n",
      "[550]\tvalid_0's auc: 0.86932\n",
      "[600]\tvalid_0's auc: 0.870178\n",
      "[650]\tvalid_0's auc: 0.870569\n",
      "[700]\tvalid_0's auc: 0.871144\n",
      "[750]\tvalid_0's auc: 0.871855\n",
      "[800]\tvalid_0's auc: 0.872477\n",
      "[850]\tvalid_0's auc: 0.872939\n",
      "[900]\tvalid_0's auc: 0.873818\n",
      "[950]\tvalid_0's auc: 0.874425\n",
      "[1000]\tvalid_0's auc: 0.875145\n"
     ]
    }
   ],
   "source": [
    "X_test = df_test.drop(\"ID_code\",axis=1).values\n",
    "result = np.zeros(X_test.shape[0])\n",
    "val_aucs = []\n",
    "\n",
    "\n",
    "skf = StratifiedKFold(n_splits=5, shuffle=True, random_state=random_state)\n",
    "for counter,(train_index, valid_index) in enumerate(skf.split(df_train, df_train.target),1):\n",
    "    print (counter)\n",
    "    \n",
    "    #Train data\n",
    "    X_train = df_train.iloc[train_index]\n",
    "    X_train = augment(X_train)\n",
    "    train_dataset = lgb.Dataset(X_train.drop(\"target\",axis=1), label=X_train.target)\n",
    "    \n",
    "    #Validation data\n",
    "    X_val = df_train.iloc[valid_index]\n",
    "    val_dataset = lgb.Dataset(X_val.drop(\"target\",axis=1), label=X_val.target)\n",
    "    \n",
    "    #Training\n",
    "    model = lgb.train(param, train_dataset, 1000, valid_sets=[val_dataset], verbose_eval=50)\n",
    "    \n",
    "    p_valid = model.predict(X_val.drop(\"target\",axis=1))\n",
    "    val_score = roc_auc_score(X_val.target, p_valid)\n",
    "    val_aucs.append(val_score)\n",
    "    \n",
    "    result += model.predict(X_test)\n"
   ]
  },
  {
   "cell_type": "code",
   "execution_count": 22,
   "metadata": {},
   "outputs": [
    {
     "name": "stdout",
     "output_type": "stream",
     "text": [
      "Mean auc: 0.880620958, std: 0.003518397\n"
     ]
    }
   ],
   "source": [
    "mean_auc = np.mean(val_aucs)\n",
    "std_auc = np.std(val_aucs)\n",
    "print('Mean auc: %.9f, std: %.9f' % (mean_auc, std_auc))"
   ]
  },
  {
   "cell_type": "markdown",
   "metadata": {},
   "source": [
    "LB score is 0.880"
   ]
  },
  {
   "cell_type": "code",
   "execution_count": 25,
   "metadata": {},
   "outputs": [],
   "source": [
    "sub_df = pd.DataFrame({'ID_code': df_test['ID_code'].values})\n",
    "sub_df['target'] = result / counter\n",
    "sub_df.to_csv('submission.csv', index=False)"
   ]
  }
 ],
 "metadata": {
  "kernelspec": {
   "display_name": "Python 3",
   "language": "python",
   "name": "python3"
  },
  "language_info": {
   "codemirror_mode": {
    "name": "ipython",
    "version": 3
   },
   "file_extension": ".py",
   "mimetype": "text/x-python",
   "name": "python",
   "nbconvert_exporter": "python",
   "pygments_lexer": "ipython3",
   "version": "3.6.7"
  }
 },
 "nbformat": 4,
 "nbformat_minor": 2
}
